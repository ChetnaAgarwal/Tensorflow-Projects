{
  "nbformat": 4,
  "nbformat_minor": 0,
  "metadata": {
    "colab": {
      "name": "tf Fashion API with flask part 2.ipynb",
      "provenance": [],
      "collapsed_sections": []
    },
    "kernelspec": {
      "name": "python3",
      "display_name": "Python 3"
    }
  },
  "cells": [
    {
      "cell_type": "code",
      "metadata": {
        "id": "2t4Ft_4-BKyL",
        "colab_type": "code",
        "colab": {}
      },
      "source": [
        "# Uploads folder contains few images that we're going to test our model on. When we connect front end, these images will be upoaded\n",
        "# by user."
      ],
      "execution_count": 0,
      "outputs": []
    },
    {
      "cell_type": "code",
      "metadata": {
        "id": "BiFVB4k7DVav",
        "colab_type": "code",
        "colab": {}
      },
      "source": [
        "!pip install tensorflow==2.0.0"
      ],
      "execution_count": 0,
      "outputs": []
    },
    {
      "cell_type": "code",
      "metadata": {
        "id": "zdfZENPtDY5f",
        "colab_type": "code",
        "outputId": "d63188d7-8cad-43f5-e9ac-79dad5ca0a37",
        "colab": {
          "base_uri": "https://localhost:8080/",
          "height": 34
        }
      },
      "source": [
        "import tensorflow as tf\n",
        "tf.__version__"
      ],
      "execution_count": 1,
      "outputs": [
        {
          "output_type": "execute_result",
          "data": {
            "text/plain": [
              "'2.0.0'"
            ]
          },
          "metadata": {
            "tags": []
          },
          "execution_count": 1
        }
      ]
    },
    {
      "cell_type": "code",
      "metadata": {
        "id": "lnSCiMELDeU0",
        "colab_type": "code",
        "colab": {}
      },
      "source": [
        "from tensorflow.keras.datasets import fashion_mnist"
      ],
      "execution_count": 0,
      "outputs": []
    },
    {
      "cell_type": "code",
      "metadata": {
        "id": "rfkk47yAD_r7",
        "colab_type": "code",
        "outputId": "6487a524-dd99-46d9-a2da-09847952a486",
        "colab": {
          "base_uri": "https://localhost:8080/",
          "height": 158
        }
      },
      "source": [
        "(X_train, y_train),(X_test, y_test) = fashion_mnist.load_data()"
      ],
      "execution_count": 3,
      "outputs": [
        {
          "output_type": "stream",
          "text": [
            "Downloading data from https://storage.googleapis.com/tensorflow/tf-keras-datasets/train-labels-idx1-ubyte.gz\n",
            "32768/29515 [=================================] - 0s 0us/step\n",
            "Downloading data from https://storage.googleapis.com/tensorflow/tf-keras-datasets/train-images-idx3-ubyte.gz\n",
            "26427392/26421880 [==============================] - 0s 0us/step\n",
            "Downloading data from https://storage.googleapis.com/tensorflow/tf-keras-datasets/t10k-labels-idx1-ubyte.gz\n",
            "8192/5148 [===============================================] - 0s 0us/step\n",
            "Downloading data from https://storage.googleapis.com/tensorflow/tf-keras-datasets/t10k-images-idx3-ubyte.gz\n",
            "4423680/4422102 [==============================] - 0s 0us/step\n"
          ],
          "name": "stdout"
        }
      ]
    },
    {
      "cell_type": "code",
      "metadata": {
        "id": "t-llxeLKDlLS",
        "colab_type": "code",
        "colab": {}
      },
      "source": [
        "# save few images from test set to uploads folder\n",
        "import imageio\n",
        "for i in range(5):\n",
        "  imageio.imwrite(\"drive/My Drive/uploads/{}.png\".format(i) , X_test[i])"
      ],
      "execution_count": 0,
      "outputs": []
    },
    {
      "cell_type": "markdown",
      "metadata": {
        "id": "mLd74xZSFAst",
        "colab_type": "text"
      },
      "source": [
        "IMPORT PROJECT DEPENDENCIES"
      ]
    },
    {
      "cell_type": "code",
      "metadata": {
        "id": "Ra5hG740EnHo",
        "colab_type": "code",
        "colab": {}
      },
      "source": [
        "import os # native python library use to work with paths and files\n",
        "import requests # used to create post or get request to our server\n",
        "import numpy as np\n",
        "\n",
        "from flask import Flask, request, jsonify\n",
        "# Flask - used to create the flask application\n",
        "# jsonify - when building an API, JSON is the most common way to return data\n",
        "# request - to send a request to a specific path from our flask backend"
      ],
      "execution_count": 0,
      "outputs": []
    },
    {
      "cell_type": "markdown",
      "metadata": {
        "id": "uTJJ9PAMFFqr",
        "colab_type": "text"
      },
      "source": [
        "LOAD PRETRAINED MODEL"
      ]
    },
    {
      "cell_type": "markdown",
      "metadata": {
        "id": "2lCRnm4WFO5w",
        "colab_type": "text"
      },
      "source": [
        "1. Load the model structure - topology of the network, layers, parameters, optimizers, loss, etc"
      ]
    },
    {
      "cell_type": "code",
      "metadata": {
        "id": "pO8zkFLEKzki",
        "colab_type": "code",
        "colab": {}
      },
      "source": [
        "with open(\"drive/My Drive/fashion_model_flask.json\", \"r\") as f:\n",
        "  model_json = f.read()"
      ],
      "execution_count": 0,
      "outputs": []
    },
    {
      "cell_type": "code",
      "metadata": {
        "id": "O_xSTq1uLIgV",
        "colab_type": "code",
        "colab": {}
      },
      "source": [
        "model = tf.keras.models.model_from_json(model_json)"
      ],
      "execution_count": 0,
      "outputs": []
    },
    {
      "cell_type": "markdown",
      "metadata": {
        "id": "PjZocwMiFjh5",
        "colab_type": "text"
      },
      "source": [
        "2. Load model weights"
      ]
    },
    {
      "cell_type": "code",
      "metadata": {
        "id": "LWeoXbQ_Ek0e",
        "colab_type": "code",
        "colab": {}
      },
      "source": [
        "model.load_weights(\"drive/My Drive/fashion_model_flask.h5\")"
      ],
      "execution_count": 0,
      "outputs": []
    },
    {
      "cell_type": "markdown",
      "metadata": {
        "id": "od25-F0dLYPA",
        "colab_type": "text"
      },
      "source": [
        "CREATE THE FLASK API"
      ]
    },
    {
      "cell_type": "markdown",
      "metadata": {
        "id": "8VmPiZuTL_xe",
        "colab_type": "text"
      },
      "source": [
        "1. Define flask application"
      ]
    },
    {
      "cell_type": "code",
      "metadata": {
        "id": "l7j1PL5GLV_j",
        "colab_type": "code",
        "colab": {}
      },
      "source": [
        "app = Flask(__name__)"
      ],
      "execution_count": 0,
      "outputs": []
    },
    {
      "cell_type": "markdown",
      "metadata": {
        "id": "NWVuw3ILMbyj",
        "colab_type": "text"
      },
      "source": [
        "2. Define classify_image function"
      ]
    },
    {
      "cell_type": "code",
      "metadata": {
        "id": "WkZ7k9DzMXTs",
        "colab_type": "code",
        "colab": {}
      },
      "source": [
        "@app.route(\"/api/v1/<string:img_name>\", methods=[\"POST\"])\n",
        "def classify_image(img_name):\n",
        "  upload_dir = \"uploads/\"\n",
        "  image = imread(upload_dir + img_name)\n",
        "  # to return class name instead of class index, define an array for mapping index with names\n",
        "  classes = [\"T-SHIRT/TOP\",\"TROUSER\",\"PULLOVER\",\"DRESS\",\"COAT\",\"SANDAL\",\"SHIRT\",\"SNEAKER\",\"BAG\",\"ANKLE BOOT\"]\n",
        "  prediction = model.predict([image.reshape(1, 28*28)])\n",
        "  return jsonify({\"object_detected\" : classes[np.argmax(predictions[0])]}) # transform python dictionary to json object"
      ],
      "execution_count": 0,
      "outputs": []
    },
    {
      "cell_type": "markdown",
      "metadata": {
        "id": "aI2NunkaSbkX",
        "colab_type": "text"
      },
      "source": [
        "3. Start flask application and make predictions"
      ]
    },
    {
      "cell_type": "code",
      "metadata": {
        "id": "zWekgZwmSTMQ",
        "colab_type": "code",
        "colab": {
          "base_uri": "https://localhost:8080/",
          "height": 122
        },
        "outputId": "e83a52e7-777b-4408-8862-ae46241163f8"
      },
      "source": [
        "app.run(port=5000, debug=False)"
      ],
      "execution_count": 0,
      "outputs": [
        {
          "output_type": "stream",
          "text": [
            " * Serving Flask app \"__main__\" (lazy loading)\n",
            " * Environment: production\n",
            "\u001b[31m   WARNING: This is a development server. Do not use it in a production deployment.\u001b[0m\n",
            "\u001b[2m   Use a production WSGI server instead.\u001b[0m\n",
            " * Debug mode: off\n"
          ],
          "name": "stdout"
        },
        {
          "output_type": "stream",
          "text": [
            " * Running on http://127.0.0.1:5000/ (Press CTRL+C to quit)\n"
          ],
          "name": "stderr"
        }
      ]
    },
    {
      "cell_type": "code",
      "metadata": {
        "id": "7dGPzGWyUgEr",
        "colab_type": "code",
        "colab": {}
      },
      "source": [
        ""
      ],
      "execution_count": 0,
      "outputs": []
    }
  ]
}