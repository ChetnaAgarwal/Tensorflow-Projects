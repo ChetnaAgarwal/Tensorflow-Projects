{
  "nbformat": 4,
  "nbformat_minor": 0,
  "metadata": {
    "colab": {
      "name": "tf reinforcement learning for stock market trading.ipynb",
      "provenance": [],
      "collapsed_sections": []
    },
    "kernelspec": {
      "name": "python3",
      "display_name": "Python 3"
    },
    "accelerator": "GPU"
  },
  "cells": [
    {
      "cell_type": "markdown",
      "metadata": {
        "id": "LIhEnDsQo0xv",
        "colab_type": "text"
      },
      "source": [
        "#INSTALL DEPENDENCIES AND IMPORT LIBRARIES"
      ]
    },
    {
      "cell_type": "code",
      "metadata": {
        "id": "5OLZ3GI5ylX2",
        "colab_type": "code",
        "colab": {}
      },
      "source": [
        "!pip install tensorflow==2.0.0"
      ],
      "execution_count": 0,
      "outputs": []
    },
    {
      "cell_type": "code",
      "metadata": {
        "id": "GRettjtPo9hy",
        "colab_type": "code",
        "outputId": "3e8f5531-4595-41b3-c0e3-72d09efd9f6a",
        "colab": {
          "base_uri": "https://localhost:8080/",
          "height": 34
        }
      },
      "source": [
        "import tensorflow as tf\n",
        "tf.__version__"
      ],
      "execution_count": 0,
      "outputs": [
        {
          "output_type": "execute_result",
          "data": {
            "text/plain": [
              "'2.0.0'"
            ]
          },
          "metadata": {
            "tags": []
          },
          "execution_count": 16
        }
      ]
    },
    {
      "cell_type": "code",
      "metadata": {
        "id": "dpCSTGACpByQ",
        "colab_type": "code",
        "colab": {}
      },
      "source": [
        "!pip install pandas_datareader # this library helps us retrieve all stock market data directly to our environment"
      ],
      "execution_count": 0,
      "outputs": []
    },
    {
      "cell_type": "code",
      "metadata": {
        "id": "iG1_drGcpTRT",
        "colab_type": "code",
        "colab": {}
      },
      "source": [
        "import math\n",
        "import random\n",
        "import numpy as np\n",
        "import pandas as pd\n",
        "import matplotlib.pyplot as plt\n",
        "import pandas_datareader as data_reader\n",
        "from tqdm import tqdm_notebook, tqdm\n",
        "from collections import deque\n",
        "from tensorflow.keras.callbacks import ModelCheckpoint"
      ],
      "execution_count": 0,
      "outputs": []
    },
    {
      "cell_type": "markdown",
      "metadata": {
        "id": "qrADJXFyp1kq",
        "colab_type": "text"
      },
      "source": [
        "#BUILD THE AI TRADER NETWORK"
      ]
    },
    {
      "cell_type": "code",
      "metadata": {
        "id": "-v_gr7KWpypW",
        "colab_type": "code",
        "colab": {}
      },
      "source": [
        "class AI_trader():\n",
        "  def __init__(self, state_size, action_space=3, model_name=\"AITrader\"):\n",
        "    # 3 actions - stay(dont do anything), buy, sell\n",
        "    self.state_size = state_size\n",
        "    self.action_space = action_space\n",
        "    self.memory = deque(maxlen=2000)\n",
        "    self.inventory = []\n",
        "    self.model_name = model_name\n",
        "\n",
        "    self.gamma = 0.95 # between 0-1\n",
        "    self.epsilon = 1 # this means that in the beginning of training process, all actions - performed randomly\n",
        "    self.epsilon_final = 0.01\n",
        "    self.epsilon_decay = 0.995\n",
        "    self.model = self.model_builder()\n",
        "\n",
        "  def model_builder(self):\n",
        "    model = tf.keras.models.Sequential()\n",
        "    model.add(tf.keras.layers.Dense(units=32, activation = 'relu', input_dim = self.state_size)) \n",
        "    model.add(tf.keras.layers.Dense(units=64, activation = 'relu')) \n",
        "    model.add(tf.keras.layers.Dense(units=128, activation = 'relu')) \n",
        "    model.add(tf.keras.layers.Dense(units=self.action_space, activation = 'linear'))  # linear since we'll use mse for loss - outputs are continuous values and not classes\n",
        "    model.compile(loss=\"mse\", optimizer=tf.keras.optimizers.Adam(lr=0.001))\n",
        "    # accuracy metric cant be used since regression, not classification\n",
        "    return model\n",
        "\n",
        "  def trade(self, state):\n",
        "    if random.random() < self.epsilon:\n",
        "      return random.randrange(self.action_space)\n",
        "    \n",
        "    actions = self.model.predict(state)\n",
        "    return np.argmax(actions[0]) # action with highest probability\n",
        "\n",
        "  def batch_train(self, batch_size):\n",
        "    batch = []\n",
        "    filepath=\"weights.{epoch:02d}-{val_loss:.2f}.hdf5,\"\n",
        "    #checkpoint = ModelCheckpoint(filepath, monitor='val_accuracy', verbose=1, save_best_only=True, mode='max')\n",
        "    checkpoint = tf.keras.callbacks.ModelCheckpoint(\n",
        "    filepath, monitor='val_loss', verbose=0, save_best_only=False,\n",
        "    save_weights_only=False, mode='auto', save_freq='epoch', **kwargs\n",
        "    )\n",
        "    callbacks_list = [checkpoint]\n",
        "\n",
        "    for i in range(len(self.memory)-batch_size+1 , len(self.memory)):\n",
        "      batch.append(self.memory[i])\n",
        "    for state, action, reward, next_state, done in batch:\n",
        "      reward = reward\n",
        "      if not done:\n",
        "        reward = reward + self.gamma*np.amax(self.model.predict(next_state)[0])\n",
        "      target = self.model.predict(state)\n",
        "      target[0][action] = reward\n",
        "      self.model.fit(state, target, epochs = 1, callbacks=callbacks_list, verbose=0)\n",
        "    if self.epsilon > self.epsilon_final:\n",
        "      self.epsilon = self.epsilon*self.epsilon_decay"
      ],
      "execution_count": 0,
      "outputs": []
    },
    {
      "cell_type": "markdown",
      "metadata": {
        "id": "mXFGGE5fqF9j",
        "colab_type": "text"
      },
      "source": [
        "#DATASET PREPROCESSING"
      ]
    },
    {
      "cell_type": "markdown",
      "metadata": {
        "id": "6Bvhq62XqLey",
        "colab_type": "text"
      },
      "source": [
        "#HELPER FUNCTIONS"
      ]
    },
    {
      "cell_type": "markdown",
      "metadata": {
        "id": "6EFkNd5utpYs",
        "colab_type": "text"
      },
      "source": [
        "SIGMOID"
      ]
    },
    {
      "cell_type": "code",
      "metadata": {
        "id": "CEnpQcDRq2H8",
        "colab_type": "code",
        "colab": {}
      },
      "source": [
        "def sigmoid(x):\n",
        "  return 1/(1+math.exp(-x))"
      ],
      "execution_count": 0,
      "outputs": []
    },
    {
      "cell_type": "markdown",
      "metadata": {
        "id": "ab4T8iiDtq9I",
        "colab_type": "text"
      },
      "source": [
        "PRICE FORMAT FUNCTION"
      ]
    },
    {
      "cell_type": "code",
      "metadata": {
        "id": "lFvzE1-uqcWK",
        "colab_type": "code",
        "colab": {}
      },
      "source": [
        "# function to print out the stocks bought or sold\n",
        "def stocks_price_format(n):\n",
        "  if n < 0:\n",
        "    return \"- $ {0:2f}\".format(abs(n))\n",
        "  else:\n",
        "    return \"$ {0:2f}\".format(abs(n))"
      ],
      "execution_count": 0,
      "outputs": []
    },
    {
      "cell_type": "markdown",
      "metadata": {
        "id": "VJQeeA4gty-Z",
        "colab_type": "text"
      },
      "source": [
        "DATASET LOADER FUNCTION"
      ]
    },
    {
      "cell_type": "code",
      "metadata": {
        "id": "br7-Xl3Drmkh",
        "colab_type": "code",
        "outputId": "6fb4b163-c7ad-4a84-fb6b-d9f28824709e",
        "colab": {
          "base_uri": "https://localhost:8080/",
          "height": 431
        }
      },
      "source": [
        "dataset = data_reader.DataReader(\"AAPL\", data_source=\"yahoo\")\n",
        "dataset # returns a pandas dataframe\n",
        "# high, low -> highest and lowest price of the day\n",
        "# open, close -> price when market physically opens and closes\n",
        "# volume -> no of stocks there are to be sold\n",
        "# Adj close -> we wont use this column"
      ],
      "execution_count": 0,
      "outputs": [
        {
          "output_type": "execute_result",
          "data": {
            "text/html": [
              "<div>\n",
              "<style scoped>\n",
              "    .dataframe tbody tr th:only-of-type {\n",
              "        vertical-align: middle;\n",
              "    }\n",
              "\n",
              "    .dataframe tbody tr th {\n",
              "        vertical-align: top;\n",
              "    }\n",
              "\n",
              "    .dataframe thead th {\n",
              "        text-align: right;\n",
              "    }\n",
              "</style>\n",
              "<table border=\"1\" class=\"dataframe\">\n",
              "  <thead>\n",
              "    <tr style=\"text-align: right;\">\n",
              "      <th></th>\n",
              "      <th>High</th>\n",
              "      <th>Low</th>\n",
              "      <th>Open</th>\n",
              "      <th>Close</th>\n",
              "      <th>Volume</th>\n",
              "      <th>Adj Close</th>\n",
              "    </tr>\n",
              "    <tr>\n",
              "      <th>Date</th>\n",
              "      <th></th>\n",
              "      <th></th>\n",
              "      <th></th>\n",
              "      <th></th>\n",
              "      <th></th>\n",
              "      <th></th>\n",
              "    </tr>\n",
              "  </thead>\n",
              "  <tbody>\n",
              "    <tr>\n",
              "      <th>2010-01-04</th>\n",
              "      <td>30.642857</td>\n",
              "      <td>30.340000</td>\n",
              "      <td>30.490000</td>\n",
              "      <td>30.572857</td>\n",
              "      <td>123432400.0</td>\n",
              "      <td>26.538483</td>\n",
              "    </tr>\n",
              "    <tr>\n",
              "      <th>2010-01-05</th>\n",
              "      <td>30.798571</td>\n",
              "      <td>30.464285</td>\n",
              "      <td>30.657143</td>\n",
              "      <td>30.625713</td>\n",
              "      <td>150476200.0</td>\n",
              "      <td>26.584366</td>\n",
              "    </tr>\n",
              "    <tr>\n",
              "      <th>2010-01-06</th>\n",
              "      <td>30.747143</td>\n",
              "      <td>30.107143</td>\n",
              "      <td>30.625713</td>\n",
              "      <td>30.138571</td>\n",
              "      <td>138040000.0</td>\n",
              "      <td>26.161509</td>\n",
              "    </tr>\n",
              "    <tr>\n",
              "      <th>2010-01-07</th>\n",
              "      <td>30.285715</td>\n",
              "      <td>29.864286</td>\n",
              "      <td>30.250000</td>\n",
              "      <td>30.082857</td>\n",
              "      <td>119282800.0</td>\n",
              "      <td>26.113146</td>\n",
              "    </tr>\n",
              "    <tr>\n",
              "      <th>2010-01-08</th>\n",
              "      <td>30.285715</td>\n",
              "      <td>29.865715</td>\n",
              "      <td>30.042856</td>\n",
              "      <td>30.282858</td>\n",
              "      <td>111902700.0</td>\n",
              "      <td>26.286753</td>\n",
              "    </tr>\n",
              "    <tr>\n",
              "      <th>...</th>\n",
              "      <td>...</td>\n",
              "      <td>...</td>\n",
              "      <td>...</td>\n",
              "      <td>...</td>\n",
              "      <td>...</td>\n",
              "      <td>...</td>\n",
              "    </tr>\n",
              "    <tr>\n",
              "      <th>2020-03-11</th>\n",
              "      <td>281.220001</td>\n",
              "      <td>271.859985</td>\n",
              "      <td>277.390015</td>\n",
              "      <td>275.429993</td>\n",
              "      <td>63899700.0</td>\n",
              "      <td>275.429993</td>\n",
              "    </tr>\n",
              "    <tr>\n",
              "      <th>2020-03-12</th>\n",
              "      <td>270.000000</td>\n",
              "      <td>248.000000</td>\n",
              "      <td>255.940002</td>\n",
              "      <td>248.229996</td>\n",
              "      <td>104618500.0</td>\n",
              "      <td>248.229996</td>\n",
              "    </tr>\n",
              "    <tr>\n",
              "      <th>2020-03-13</th>\n",
              "      <td>279.920013</td>\n",
              "      <td>252.949997</td>\n",
              "      <td>264.890015</td>\n",
              "      <td>277.970001</td>\n",
              "      <td>92683000.0</td>\n",
              "      <td>277.970001</td>\n",
              "    </tr>\n",
              "    <tr>\n",
              "      <th>2020-03-16</th>\n",
              "      <td>259.079987</td>\n",
              "      <td>240.000000</td>\n",
              "      <td>241.949997</td>\n",
              "      <td>242.210007</td>\n",
              "      <td>80605900.0</td>\n",
              "      <td>242.210007</td>\n",
              "    </tr>\n",
              "    <tr>\n",
              "      <th>2020-03-17</th>\n",
              "      <td>257.609985</td>\n",
              "      <td>238.399994</td>\n",
              "      <td>247.509995</td>\n",
              "      <td>252.860001</td>\n",
              "      <td>80876700.0</td>\n",
              "      <td>252.860001</td>\n",
              "    </tr>\n",
              "  </tbody>\n",
              "</table>\n",
              "<p>2568 rows × 6 columns</p>\n",
              "</div>"
            ],
            "text/plain": [
              "                  High         Low  ...       Volume   Adj Close\n",
              "Date                                ...                         \n",
              "2010-01-04   30.642857   30.340000  ...  123432400.0   26.538483\n",
              "2010-01-05   30.798571   30.464285  ...  150476200.0   26.584366\n",
              "2010-01-06   30.747143   30.107143  ...  138040000.0   26.161509\n",
              "2010-01-07   30.285715   29.864286  ...  119282800.0   26.113146\n",
              "2010-01-08   30.285715   29.865715  ...  111902700.0   26.286753\n",
              "...                ...         ...  ...          ...         ...\n",
              "2020-03-11  281.220001  271.859985  ...   63899700.0  275.429993\n",
              "2020-03-12  270.000000  248.000000  ...  104618500.0  248.229996\n",
              "2020-03-13  279.920013  252.949997  ...   92683000.0  277.970001\n",
              "2020-03-16  259.079987  240.000000  ...   80605900.0  242.210007\n",
              "2020-03-17  257.609985  238.399994  ...   80876700.0  252.860001\n",
              "\n",
              "[2568 rows x 6 columns]"
            ]
          },
          "metadata": {
            "tags": []
          },
          "execution_count": 6
        }
      ]
    },
    {
      "cell_type": "code",
      "metadata": {
        "id": "p9Y6YwMWrmoB",
        "colab_type": "code",
        "outputId": "41dbabeb-954a-4280-fa63-e62f47a40b2d",
        "colab": {
          "base_uri": "https://localhost:8080/",
          "height": 34
        }
      },
      "source": [
        "str(dataset.index[0]).split()[0]"
      ],
      "execution_count": 0,
      "outputs": [
        {
          "output_type": "execute_result",
          "data": {
            "text/plain": [
              "'2010-01-04'"
            ]
          },
          "metadata": {
            "tags": []
          },
          "execution_count": 7
        }
      ]
    },
    {
      "cell_type": "code",
      "metadata": {
        "id": "VBYerFANrBJP",
        "colab_type": "code",
        "colab": {}
      },
      "source": [
        "# dataset loader function\n",
        "def dataset_loader(stock_name):\n",
        "  dataset = data_reader.DataReader(stock_name, data_source=\"yahoo\")\n",
        "  start_date = str(dataset.index[0]).split()[0]\n",
        "  end_date = str(dataset.index[-1]).split()[0]\n",
        "  close = dataset[\"Close\"]\n",
        "  return close"
      ],
      "execution_count": 0,
      "outputs": []
    },
    {
      "cell_type": "markdown",
      "metadata": {
        "id": "STSjD4jVtgAx",
        "colab_type": "text"
      },
      "source": [
        "STATE CREATOR FUNCTION"
      ]
    },
    {
      "cell_type": "code",
      "metadata": {
        "id": "l1qggRuqtPEs",
        "colab_type": "code",
        "colab": {}
      },
      "source": [
        "def state_creator(data, timestep, window_size):\n",
        "  # timestep is the time at which we want to predict our stock - will take value of stock at prev window_size times as input\n",
        "  # visualize a graph of time(on x-axis) vs stock price(on y-axis)\n",
        "  starting_id = timestep - window_size + 1\n",
        "  if starting_id >= 0:\n",
        "    windowed_data = data[starting_id:timestep+1]\n",
        "  else:\n",
        "    windowed_data = -starting_id*[data[0]] + list(data[0:timestep+1])\n",
        "  \n",
        "  state = []\n",
        "  # state will be the difference of 2 windows\n",
        "  for i in range(window_size - 1):\n",
        "    state.append(sigmoid(windowed_data[i+1] - windowed_data[i]))\n",
        "  return np.array([state])"
      ],
      "execution_count": 0,
      "outputs": []
    },
    {
      "cell_type": "markdown",
      "metadata": {
        "id": "i4rcX2vD1VqN",
        "colab_type": "text"
      },
      "source": [
        "#LOADING DATASET"
      ]
    },
    {
      "cell_type": "code",
      "metadata": {
        "id": "Lcm3czw-1Sc3",
        "colab_type": "code",
        "colab": {}
      },
      "source": [
        "stock_name = \"AAPL\"\n",
        "data = dataset_loader(stock_name)"
      ],
      "execution_count": 0,
      "outputs": []
    },
    {
      "cell_type": "code",
      "metadata": {
        "id": "U3zAlUD05kBP",
        "colab_type": "code",
        "outputId": "ee126e47-008d-4f58-bba8-8fd2e6550184",
        "colab": {
          "base_uri": "https://localhost:8080/",
          "height": 235
        }
      },
      "source": [
        "data"
      ],
      "execution_count": 0,
      "outputs": [
        {
          "output_type": "execute_result",
          "data": {
            "text/plain": [
              "Date\n",
              "2010-01-04     30.572857\n",
              "2010-01-05     30.625713\n",
              "2010-01-06     30.138571\n",
              "2010-01-07     30.082857\n",
              "2010-01-08     30.282858\n",
              "                 ...    \n",
              "2020-03-11    275.429993\n",
              "2020-03-12    248.229996\n",
              "2020-03-13    277.970001\n",
              "2020-03-16    242.210007\n",
              "2020-03-17    252.860001\n",
              "Name: Close, Length: 2568, dtype: float64"
            ]
          },
          "metadata": {
            "tags": []
          },
          "execution_count": 11
        }
      ]
    },
    {
      "cell_type": "markdown",
      "metadata": {
        "id": "gRqaoyLd5tXS",
        "colab_type": "text"
      },
      "source": [
        "#TRAIN THE AI TRADER"
      ]
    },
    {
      "cell_type": "markdown",
      "metadata": {
        "id": "S0a-EdU95wi6",
        "colab_type": "text"
      },
      "source": [
        "SET HYPERPARAMETERS"
      ]
    },
    {
      "cell_type": "code",
      "metadata": {
        "id": "YGM-gxQm5lP4",
        "colab_type": "code",
        "colab": {}
      },
      "source": [
        "window_size = 10\n",
        "episodes = 1000 # epochs\n",
        "batch_size = 32\n",
        "data_samples = len(data) - 1"
      ],
      "execution_count": 0,
      "outputs": []
    },
    {
      "cell_type": "markdown",
      "metadata": {
        "id": "On2HjR6N6V3Y",
        "colab_type": "text"
      },
      "source": [
        "DEFINE THE TRADER MODEL"
      ]
    },
    {
      "cell_type": "code",
      "metadata": {
        "id": "CH-xTP0f6VL8",
        "colab_type": "code",
        "outputId": "47a3c9bf-b754-47ff-aaaf-1e7eb5ff4fe7",
        "colab": {
          "base_uri": "https://localhost:8080/",
          "height": 286
        }
      },
      "source": [
        "trader = AI_trader(window_size)\n",
        "trader.model.summary()"
      ],
      "execution_count": 0,
      "outputs": [
        {
          "output_type": "stream",
          "text": [
            "Model: \"sequential\"\n",
            "_________________________________________________________________\n",
            "Layer (type)                 Output Shape              Param #   \n",
            "=================================================================\n",
            "dense (Dense)                (None, 32)                352       \n",
            "_________________________________________________________________\n",
            "dense_1 (Dense)              (None, 64)                2112      \n",
            "_________________________________________________________________\n",
            "dense_2 (Dense)              (None, 128)               8320      \n",
            "_________________________________________________________________\n",
            "dense_3 (Dense)              (None, 3)                 387       \n",
            "=================================================================\n",
            "Total params: 11,171\n",
            "Trainable params: 11,171\n",
            "Non-trainable params: 0\n",
            "_________________________________________________________________\n"
          ],
          "name": "stdout"
        }
      ]
    },
    {
      "cell_type": "markdown",
      "metadata": {
        "id": "-dNaXOKV65wJ",
        "colab_type": "text"
      },
      "source": [
        "#TRAINING LOOP"
      ]
    },
    {
      "cell_type": "code",
      "metadata": {
        "id": "lDnUJ2WL6m3t",
        "colab_type": "code",
        "colab": {}
      },
      "source": [
        "for episode in range(episodes+1):\n",
        "  print(\"Episode : {}/{}\". format(episode, episodes))\n",
        "  state = state_creator(data, 0, window_size + 1) # initial state\n",
        "  total_profit = 0\n",
        "  trader.inventory = [] # list that stores all stocks we bought\n",
        "  for t in tqdm(range(data_samples)): # tqdm for visualization purposes\n",
        "    action = trader.trade(state)\n",
        "    next_state = state_creator(data, t+1, window_size+1)\n",
        "    reward = 0\n",
        "    if action==1: # the agent is buying\n",
        "      trader.inventory.append(data[t])\n",
        "    elif action==2 and len(trader.inventory) > 0: # selling the stock -> inventory shouldnt be empty\n",
        "      buy_price = trader.inventory.pop(0)\n",
        "      reward = max(data[t] - buy_price, 0) # 0 if we're in loss\n",
        "      total_profit = data[t] - buy_price\n",
        "    if t==data_samples-1:\n",
        "      done = True\n",
        "    else:\n",
        "      done = False\n",
        "    trader.memory.append((state, action, reward, next_state, done))\n",
        "    state = next_state\n",
        "    if done:\n",
        "      print(\"####################\")\n",
        "      print(\"TOTAL PROFIT : {}\".format(total_profit))\n",
        "      print(\"####################\")\n",
        "    if len(trader.memory) > batch_size:\n",
        "      trader.batch_train(batch_size)\n",
        "  if episode % 10 == 0:\n",
        "    trader.model.save(\"ai_trader_{}.h5\".format(episode))"
      ],
      "execution_count": 0,
      "outputs": []
    }
  ]
}