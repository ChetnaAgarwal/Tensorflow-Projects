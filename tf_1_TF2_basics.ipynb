{
  "nbformat": 4,
  "nbformat_minor": 0,
  "metadata": {
    "colab": {
      "name": "tf course 1.ipynb",
      "provenance": [],
      "private_outputs": true,
      "collapsed_sections": [],
      "toc_visible": true
    },
    "kernelspec": {
      "name": "python3",
      "display_name": "Python 3"
    },
    "accelerator": "GPU"
  },
  "cells": [
    {
      "cell_type": "markdown",
      "metadata": {
        "id": "CgtxgMKCGyLV",
        "colab_type": "text"
      },
      "source": [
        "#TENSORFLOW 1"
      ]
    },
    {
      "cell_type": "code",
      "metadata": {
        "id": "X6oJgfbaGz21",
        "colab_type": "code",
        "colab": {}
      },
      "source": [
        "! pip install tensorflow-gpu==1.13.1"
      ],
      "execution_count": 0,
      "outputs": []
    },
    {
      "cell_type": "code",
      "metadata": {
        "id": "rHAPuQ7LG-nk",
        "colab_type": "code",
        "colab": {}
      },
      "source": [
        "import tensorflow as tf"
      ],
      "execution_count": 0,
      "outputs": []
    },
    {
      "cell_type": "code",
      "metadata": {
        "id": "ONNfgD7eHBrz",
        "colab_type": "code",
        "colab": {}
      },
      "source": [
        "tf.__version__"
      ],
      "execution_count": 0,
      "outputs": []
    },
    {
      "cell_type": "markdown",
      "metadata": {
        "id": "HJej6TskHIJp",
        "colab_type": "text"
      },
      "source": [
        "CONSTANTS - using constant function"
      ]
    },
    {
      "cell_type": "code",
      "metadata": {
        "id": "yzQtiJ7GHFeK",
        "colab_type": "code",
        "colab": {}
      },
      "source": [
        "tensor = tf.constant([[23,4],[32,51]]) # give the shape\n",
        "tensor"
      ],
      "execution_count": 0,
      "outputs": []
    },
    {
      "cell_type": "code",
      "metadata": {
        "id": "HBNgmfEpHLVy",
        "colab_type": "code",
        "colab": {}
      },
      "source": [
        "# if a session is not initialized, we cannot access values of constants\n",
        "tensor.eval() # will throw a value error"
      ],
      "execution_count": 0,
      "outputs": []
    },
    {
      "cell_type": "code",
      "metadata": {
        "id": "KQJj2k8GIEwp",
        "colab_type": "code",
        "colab": {}
      },
      "source": [
        "session = tf.Session() # initialise the session\n",
        "session.run(tf.global_variables_initializer()) # initialise all variables inside the session\n",
        "# global_variables_initializer() - initializer for all global variables inside the session\n",
        "tensor_value = session.run(tensor) # connect your tensor to the initialised session with the run() again\n",
        "tensor_value # will contain the values of tensor"
      ],
      "execution_count": 0,
      "outputs": []
    },
    {
      "cell_type": "markdown",
      "metadata": {
        "id": "j5CW3IkMJKt7",
        "colab_type": "text"
      },
      "source": [
        "VARIABLES - using Variable class"
      ]
    },
    {
      "cell_type": "code",
      "metadata": {
        "id": "rScKFVdaJMNk",
        "colab_type": "code",
        "colab": {}
      },
      "source": [
        "variable = tf.Variable([[30,20][3,2]])\n",
        "variable"
      ],
      "execution_count": 0,
      "outputs": []
    },
    {
      "cell_type": "code",
      "metadata": {
        "id": "OM0FrOoMJblL",
        "colab_type": "code",
        "colab": {}
      },
      "source": [
        "variable.eval() # will throw an error since session is not initialised"
      ],
      "execution_count": 0,
      "outputs": []
    },
    {
      "cell_type": "code",
      "metadata": {
        "id": "70Qu6tmVJbo0",
        "colab_type": "code",
        "colab": {}
      },
      "source": [
        "session = tf.Session()\n",
        "session.run(tf.global_variables_initializer()) # initializing all the variables from the session\n",
        "variable.eval(session) # running the eval() on the environment with the initialized session to retrieve values from it\n",
        "# variable class has an eval()"
      ],
      "execution_count": 0,
      "outputs": []
    },
    {
      "cell_type": "markdown",
      "metadata": {
        "id": "gWGtVvfyKZgH",
        "colab_type": "text"
      },
      "source": [
        "# TENSORFLOW 2.0"
      ]
    },
    {
      "cell_type": "code",
      "metadata": {
        "id": "JmyGzePZNz6g",
        "colab_type": "code",
        "colab": {}
      },
      "source": [
        "tf.__version__"
      ],
      "execution_count": 0,
      "outputs": []
    },
    {
      "cell_type": "code",
      "metadata": {
        "id": "coFFp6FAOMfa",
        "colab_type": "code",
        "colab": {}
      },
      "source": [
        "!pip uninstall tensorflow"
      ],
      "execution_count": 0,
      "outputs": []
    },
    {
      "cell_type": "code",
      "metadata": {
        "id": "vzuZa9h3Og9P",
        "colab_type": "code",
        "colab": {}
      },
      "source": [
        "!pip install tensorflow==2.0.0"
      ],
      "execution_count": 0,
      "outputs": []
    },
    {
      "cell_type": "code",
      "metadata": {
        "id": "bYJadF6aOtdz",
        "colab_type": "code",
        "colab": {}
      },
      "source": [
        "import tensorflow as tf"
      ],
      "execution_count": 0,
      "outputs": []
    },
    {
      "cell_type": "code",
      "metadata": {
        "id": "61ZnXQioO67U",
        "colab_type": "code",
        "colab": {}
      },
      "source": [
        "tf.__version__"
      ],
      "execution_count": 0,
      "outputs": []
    },
    {
      "cell_type": "markdown",
      "metadata": {
        "id": "ELrv_VO7PG50",
        "colab_type": "text"
      },
      "source": [
        "CONSTANTS"
      ]
    },
    {
      "cell_type": "code",
      "metadata": {
        "id": "E1MgffGfO9Ne",
        "colab_type": "code",
        "colab": {}
      },
      "source": [
        "tensor_2 = tf.constant([[3,2],[9,7]])\n",
        "tensor_2 # no need to run session with tf 2.0"
      ],
      "execution_count": 0,
      "outputs": []
    },
    {
      "cell_type": "code",
      "metadata": {
        "id": "vi_N_s55PSv6",
        "colab_type": "code",
        "colab": {}
      },
      "source": [
        "tensor_2.shape"
      ],
      "execution_count": 0,
      "outputs": []
    },
    {
      "cell_type": "code",
      "metadata": {
        "id": "uYyyOwhRPWdT",
        "colab_type": "code",
        "colab": {}
      },
      "source": [
        "# get the values straight from a tf constant with numpy, and without need of a session\n",
        "import numpy as np\n",
        "tensor_2.numpy()"
      ],
      "execution_count": 0,
      "outputs": []
    },
    {
      "cell_type": "code",
      "metadata": {
        "id": "X6u3CdU2PxO6",
        "colab_type": "code",
        "colab": {}
      },
      "source": [
        "# we can convert a numpy array into a tensor as well\n",
        "numpy_tensor = np.array([[3,2],[9,7]])\n",
        "tensor_from_numpy = tf.constant(numpy_tensor)\n",
        "tensor_from_numpy"
      ],
      "execution_count": 0,
      "outputs": []
    },
    {
      "cell_type": "markdown",
      "metadata": {
        "id": "ZyL_754PQ88y",
        "colab_type": "text"
      },
      "source": [
        "VARIABLES"
      ]
    },
    {
      "cell_type": "code",
      "metadata": {
        "id": "7QQ1LW7gQOY6",
        "colab_type": "code",
        "colab": {}
      },
      "source": [
        "tf2_var = tf.Variable([[9,8],[8,6]])\n",
        "tf2_var"
      ],
      "execution_count": 0,
      "outputs": []
    },
    {
      "cell_type": "code",
      "metadata": {
        "id": "yr2FLdQJRFkW",
        "colab_type": "code",
        "colab": {}
      },
      "source": [
        "# getting the values of a variable\n",
        "tf2_var.numpy()"
      ],
      "execution_count": 0,
      "outputs": []
    },
    {
      "cell_type": "code",
      "metadata": {
        "id": "_D2hNkdbROEA",
        "colab_type": "code",
        "colab": {}
      },
      "source": [
        "# changing a specific value in a variable\n",
        "tf2_var[0,1].assign(100)"
      ],
      "execution_count": 0,
      "outputs": []
    },
    {
      "cell_type": "code",
      "metadata": {
        "id": "Lskx4mNLRglc",
        "colab_type": "code",
        "colab": {}
      },
      "source": [
        "tf2_var"
      ],
      "execution_count": 0,
      "outputs": []
    },
    {
      "cell_type": "markdown",
      "metadata": {
        "id": "2_jtjfR3RowG",
        "colab_type": "text"
      },
      "source": [
        "OPERATIONS WITH TENSORS"
      ]
    },
    {
      "cell_type": "code",
      "metadata": {
        "id": "CCSq8PJ3RmKI",
        "colab_type": "code",
        "colab": {}
      },
      "source": [
        "tensor = tf.constant([[1,2],[3,4]])"
      ],
      "execution_count": 0,
      "outputs": []
    },
    {
      "cell_type": "code",
      "metadata": {
        "id": "31eP9x8DUwIw",
        "colab_type": "code",
        "colab": {}
      },
      "source": [
        "# multiplication between scalar and tensor\n",
        "tensor * 5"
      ],
      "execution_count": 0,
      "outputs": []
    },
    {
      "cell_type": "code",
      "metadata": {
        "id": "rpPm5XxRU3P5",
        "colab_type": "code",
        "colab": {}
      },
      "source": [
        "# addition bw scalar and tensor\n",
        "tensor + 2"
      ],
      "execution_count": 0,
      "outputs": []
    },
    {
      "cell_type": "code",
      "metadata": {
        "id": "yrr1tjYdU7sI",
        "colab_type": "code",
        "colab": {}
      },
      "source": [
        "# using numpy functions on tensors\n",
        "np.square(tensor)"
      ],
      "execution_count": 0,
      "outputs": []
    },
    {
      "cell_type": "code",
      "metadata": {
        "id": "zNIzKNd7VHHE",
        "colab_type": "code",
        "colab": {}
      },
      "source": [
        "np.sqrt(tensor)"
      ],
      "execution_count": 0,
      "outputs": []
    },
    {
      "cell_type": "code",
      "metadata": {
        "id": "dWb0_mc4VKG7",
        "colab_type": "code",
        "colab": {}
      },
      "source": [
        "# dot product between 2 tensors\n",
        "np.dot(tensor,tensor_2)  # matrix product"
      ],
      "execution_count": 0,
      "outputs": []
    },
    {
      "cell_type": "markdown",
      "metadata": {
        "id": "S8_Vz5yVWCiX",
        "colab_type": "text"
      },
      "source": [
        "STRINGS"
      ]
    },
    {
      "cell_type": "code",
      "metadata": {
        "id": "UIe-VJ9aVsZ1",
        "colab_type": "code",
        "colab": {}
      },
      "source": [
        "tf_string = tf.constant(\"Tensorflow\")\n",
        "tf_string"
      ],
      "execution_count": 0,
      "outputs": []
    },
    {
      "cell_type": "code",
      "metadata": {
        "id": "jfAgLqVwWQes",
        "colab_type": "code",
        "colab": {}
      },
      "source": [
        "tf.strings.length(tf_string)"
      ],
      "execution_count": 0,
      "outputs": []
    },
    {
      "cell_type": "code",
      "metadata": {
        "id": "ufVkFbiYWWeA",
        "colab_type": "code",
        "colab": {}
      },
      "source": [
        "tf.strings.unicode_decode(tf_string, \"UTF-8\") # change string to different format"
      ],
      "execution_count": 0,
      "outputs": []
    },
    {
      "cell_type": "code",
      "metadata": {
        "id": "YTrjADsLWeS3",
        "colab_type": "code",
        "colab": {}
      },
      "source": [
        "# storing array of strings\n",
        "tf_str_arr = tf.constant([\"TF\",\"Deep learning\",\"AI\"])\n",
        "for str in tf_str_arr:\n",
        "  print(str)"
      ],
      "execution_count": 0,
      "outputs": []
    },
    {
      "cell_type": "code",
      "metadata": {
        "id": "8bS5SaK5W-JI",
        "colab_type": "code",
        "colab": {}
      },
      "source": [
        ""
      ],
      "execution_count": 0,
      "outputs": []
    }
  ]
}